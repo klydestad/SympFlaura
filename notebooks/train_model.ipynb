{
 "cells": [
  {
   "cell_type": "markdown",
   "id": "994366f6",
   "metadata": {},
   "source": [
    "## ML model training "
   ]
  },
  {
   "cell_type": "code",
   "execution_count": 6,
   "id": "78f8e9fd",
   "metadata": {},
   "outputs": [],
   "source": [
    "# Import necessary libraries\n",
    "import pandas as pd\n",
    "from sklearn.ensemble import RandomForestClassifier\n",
    "from sklearn.model_selection import train_test_split\n",
    "from sklearn.metrics import classification_report\n",
    "import joblib"
   ]
  },
  {
   "cell_type": "code",
   "execution_count": 7,
   "id": "6213a411",
   "metadata": {},
   "outputs": [],
   "source": [
    "# Load your symptom data\n",
    "df = pd.read_csv(\"../data/sample_symptoms.csv\", parse_dates=[\"date\"])\n"
   ]
  },
  {
   "cell_type": "code",
   "execution_count": 8,
   "id": "01ad4a9b",
   "metadata": {},
   "outputs": [],
   "source": [
    "# Map and clean first\n",
    "flare_mapping = {\"low risk\": 0, \"medium risk\": 1, \"high risk\": 2}\n",
    "\n",
    "def map_flare(val):\n",
    "    if isinstance(val, str):\n",
    "        val = val.lower().strip()\n",
    "        return flare_mapping.get(val, None)\n",
    "    return val  # leave numeric values as-is\n",
    "\n",
    "df['flare'] = df['flare'].apply(map_flare)\n",
    "df = df.dropna(subset=['flare'])\n",
    "df['flare'] = df['flare'].astype(int)\n",
    "\n",
    "# THEN create X and y\n",
    "X = df[[\"fatigue\", \"pain\", \"brain_fog\"]]\n",
    "y = df[\"flare\"].astype(int)"
   ]
  },
  {
   "cell_type": "code",
   "execution_count": 9,
   "id": "b2ee34cd",
   "metadata": {},
   "outputs": [
    {
     "name": "stdout",
     "output_type": "stream",
     "text": [
      "(10, 5)\n",
      "        date  fatigue  pain  brain_fog  flare\n",
      "0 2024-01-01        3     2          1      0\n",
      "1 2024-01-02        7     6          5      1\n",
      "2 2024-01-03        2     3          2      0\n",
      "3 2024-01-04        8     7          6      1\n",
      "4 2025-05-07       10     1          6      1\n",
      "[0 1]\n"
     ]
    }
   ],
   "source": [
    "print(df.shape)\n",
    "print(df.head())\n",
    "print(df['flare'].unique())"
   ]
  },
  {
   "cell_type": "code",
   "execution_count": 12,
   "id": "5a0a06ad",
   "metadata": {},
   "outputs": [
    {
     "name": "stdout",
     "output_type": "stream",
     "text": [
      "              precision    recall  f1-score   support\n",
      "\n",
      "           0       0.71      1.00      0.83         5\n",
      "           1       1.00      0.60      0.75         5\n",
      "\n",
      "    accuracy                           0.80        10\n",
      "   macro avg       0.86      0.80      0.79        10\n",
      "weighted avg       0.86      0.80      0.79        10\n",
      "\n",
      "Model saved to backend/flare_model.pkl\n"
     ]
    }
   ],
   "source": [
    "# Train a Random Forest\n",
    "model = RandomForestClassifier(n_estimators=100, random_state=42)\n",
    "model.fit(X, y)\n",
    "\n",
    "# Evaluate\n",
    "y_pred = model.predict(X)\n",
    "print(classification_report(y, y_pred))\n",
    "\n",
    "# Save the trained model\n",
    "joblib.dump(model, \"../backend/flare_model.pkl\")\n",
    "print(\"Model saved to backend/flare_model.pkl\")"
   ]
  }
 ],
 "metadata": {
  "kernelspec": {
   "display_name": "venv",
   "language": "python",
   "name": "python3"
  },
  "language_info": {
   "codemirror_mode": {
    "name": "ipython",
    "version": 3
   },
   "file_extension": ".py",
   "mimetype": "text/x-python",
   "name": "python",
   "nbconvert_exporter": "python",
   "pygments_lexer": "ipython3",
   "version": "3.12.5"
  }
 },
 "nbformat": 4,
 "nbformat_minor": 5
}
