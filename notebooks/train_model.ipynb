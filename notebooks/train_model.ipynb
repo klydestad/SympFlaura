{
 "cells": [
  {
   "cell_type": "markdown",
   "id": "994366f6",
   "metadata": {},
   "source": [
    "## ML model training "
   ]
  },
  {
   "cell_type": "code",
   "execution_count": 1,
   "id": "78f8e9fd",
   "metadata": {},
   "outputs": [],
   "source": [
    "# Import necessary libraries\n",
    "import pandas as pd\n",
    "from sklearn.ensemble import RandomForestClassifier\n",
    "from sklearn.model_selection import train_test_split\n",
    "from sklearn.metrics import classification_report\n",
    "import joblib"
   ]
  },
  {
   "cell_type": "code",
   "execution_count": 2,
   "id": "6213a411",
   "metadata": {},
   "outputs": [],
   "source": [
    "# Load your symptom data\n",
    "df = pd.read_csv(\"../data/sample_symptoms.csv\", parse_dates=[\"date\"])\n"
   ]
  },
  {
   "cell_type": "code",
   "execution_count": 3,
   "id": "01ad4a9b",
   "metadata": {},
   "outputs": [],
   "source": [
    "flare_mapping = {\"low risk\": 0, \"medium risk\": 1, \"high risk\": 2}\n",
    "\n",
    "def map_flare(val):\n",
    "    # If it's an int 0, 1, or 2, just return it\n",
    "    if isinstance(val, int) and val in [0, 1, 2]:\n",
    "        return val\n",
    "    # If it's a string, check for mapping or numeric string\n",
    "    if isinstance(val, str):\n",
    "        val_clean = val.lower().strip()\n",
    "        if val_clean in flare_mapping:\n",
    "            return flare_mapping[val_clean]\n",
    "        # Check if it's a string number\n",
    "        if val_clean in [\"0\", \"1\", \"2\"]:\n",
    "            return int(val_clean)\n",
    "    # Otherwise, not valid\n",
    "    return None\n",
    "\n",
    "df['flare'] = df['flare'].apply(map_flare)\n",
    "df = df.dropna(subset=['flare'])\n",
    "df['flare'] = df['flare'].astype(int)\n",
    "\n",
    "# THEN create X and y\n",
    "X = df[[\"fatigue\", \"pain\", \"brain_fog\"]]\n",
    "y = df[\"flare\"].astype(int)"
   ]
  },
  {
   "cell_type": "code",
   "execution_count": 4,
   "id": "b2ee34cd",
   "metadata": {},
   "outputs": [
    {
     "name": "stdout",
     "output_type": "stream",
     "text": [
      "(149, 5)\n",
      "         date  fatigue  pain  brain_fog  flare\n",
      "0  2025-01-01        3     1          7      0\n",
      "1  2025-01-02        8     5          1      0\n",
      "2  2025-01-03        7     6          1      0\n",
      "3  2025-01-04        4     1          1      0\n",
      "4  2025-01-05       10     8          8      2\n",
      "[0 2 1]\n"
     ]
    }
   ],
   "source": [
    "print(df.shape)\n",
    "print(df.head())\n",
    "print(df['flare'].unique())"
   ]
  },
  {
   "cell_type": "code",
   "execution_count": 5,
   "id": "5a0a06ad",
   "metadata": {},
   "outputs": [
    {
     "name": "stdout",
     "output_type": "stream",
     "text": [
      "              precision    recall  f1-score   support\n",
      "\n",
      "           0       0.88      0.82      0.85        17\n",
      "           1       0.64      0.78      0.70         9\n",
      "           2       1.00      0.75      0.86         4\n",
      "\n",
      "    accuracy                           0.80        30\n",
      "   macro avg       0.84      0.78      0.80        30\n",
      "weighted avg       0.82      0.80      0.81        30\n",
      "\n"
     ]
    }
   ],
   "source": [
    "# Train a Random Forest\n",
    "X_train, X_test, y_train, y_test = train_test_split(X, y, test_size=0.2, random_state=42, stratify=y)\n",
    "\n",
    "model = RandomForestClassifier(n_estimators=100, random_state=42)\n",
    "model.fit(X_train, y_train)\n",
    "\n",
    "# Evaluate\n",
    "y_pred = model.predict(X_test)\n",
    "print(classification_report(y_test, y_pred, zero_division=0))"
   ]
  },
  {
   "cell_type": "code",
   "execution_count": 6,
   "id": "35e57032",
   "metadata": {},
   "outputs": [
    {
     "name": "stdout",
     "output_type": "stream",
     "text": [
      "Model saved to backend/flare_model.pkl\n"
     ]
    }
   ],
   "source": [
    "# Save the trained model\n",
    "joblib.dump(model, \"../backend/flare_model.pkl\")\n",
    "print(\"Model saved to backend/flare_model.pkl\")"
   ]
  }
 ],
 "metadata": {
  "kernelspec": {
   "display_name": "venv",
   "language": "python",
   "name": "python3"
  },
  "language_info": {
   "codemirror_mode": {
    "name": "ipython",
    "version": 3
   },
   "file_extension": ".py",
   "mimetype": "text/x-python",
   "name": "python",
   "nbconvert_exporter": "python",
   "pygments_lexer": "ipython3",
   "version": "3.12.5"
  }
 },
 "nbformat": 4,
 "nbformat_minor": 5
}
