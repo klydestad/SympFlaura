{
 "cells": [
  {
   "cell_type": "markdown",
   "id": "994366f6",
   "metadata": {},
   "source": [
    "## ML model training "
   ]
  },
  {
   "cell_type": "code",
   "execution_count": 43,
   "id": "78f8e9fd",
   "metadata": {},
   "outputs": [],
   "source": [
    "# Import necessary libraries\n",
    "import pandas as pd\n",
    "from sklearn.ensemble import RandomForestClassifier\n",
    "from sklearn.model_selection import train_test_split\n",
    "from sklearn.metrics import classification_report\n",
    "import joblib"
   ]
  },
  {
   "cell_type": "code",
   "execution_count": 44,
   "id": "6213a411",
   "metadata": {},
   "outputs": [],
   "source": [
    "# Load your symptom data\n",
    "df = pd.read_csv(\"../data/sample_symptoms.csv\", parse_dates=[\"date\"])\n"
   ]
  },
  {
   "cell_type": "code",
   "execution_count": 45,
   "id": "01ad4a9b",
   "metadata": {},
   "outputs": [],
   "source": [
    "# Map and clean first\n",
    "flare_mapping = {\"low risk\": 0, \"medium risk\": 1, \"high risk\": 2}\n",
    "\n",
    "def map_flare(val):\n",
    "    if isinstance(val, str):\n",
    "        val = val.lower().strip()\n",
    "        return flare_mapping.get(val, None)\n",
    "    return val  # leave numeric values as-is\n",
    "\n",
    "df['flare'] = df['flare'].apply(map_flare)\n",
    "df = df.dropna(subset=['flare'])\n",
    "df['flare'] = df['flare'].astype(int)\n",
    "\n",
    "# THEN create X and y\n",
    "X = df[[\"fatigue\", \"pain\", \"brain_fog\"]]\n",
    "y = df[\"flare\"].astype(int)"
   ]
  },
  {
   "cell_type": "code",
   "execution_count": 46,
   "id": "b2ee34cd",
   "metadata": {},
   "outputs": [
    {
     "name": "stdout",
     "output_type": "stream",
     "text": [
      "(2, 5)\n",
      "           date  fatigue  pain  brain_fog  flare\n",
      "120  2025-05-07        1     2          2      0\n",
      "121  2025-05-07        3     2          2      0\n",
      "[0]\n"
     ]
    }
   ],
   "source": [
    "print(df.shape)\n",
    "print(df.head())\n",
    "print(df['flare'].unique())"
   ]
  },
  {
   "cell_type": "code",
   "execution_count": 47,
   "id": "a2f0a122",
   "metadata": {},
   "outputs": [],
   "source": [
    "\n",
    "\n",
    "X_train, X_test, y_train, y_test = train_test_split(X, y, test_size=0.2, random_state=42)"
   ]
  },
  {
   "cell_type": "code",
   "execution_count": 48,
   "id": "5a0a06ad",
   "metadata": {},
   "outputs": [
    {
     "name": "stdout",
     "output_type": "stream",
     "text": [
      "              precision    recall  f1-score   support\n",
      "\n",
      "           0       1.00      1.00      1.00         1\n",
      "\n",
      "    accuracy                           1.00         1\n",
      "   macro avg       1.00      1.00      1.00         1\n",
      "weighted avg       1.00      1.00      1.00         1\n",
      "\n"
     ]
    }
   ],
   "source": [
    "# Train a Random Forest\n",
    "model = RandomForestClassifier(n_estimators=100, random_state=42)\n",
    "model.fit(X_train, y_train)\n",
    "\n",
    "# Evaluate\n",
    "y_pred = model.predict(X_test)\n",
    "print(classification_report(y_test, y_pred))"
   ]
  },
  {
   "cell_type": "code",
   "execution_count": 49,
   "id": "35e57032",
   "metadata": {},
   "outputs": [
    {
     "name": "stdout",
     "output_type": "stream",
     "text": [
      "Model saved to backend/flare_model.pkl\n"
     ]
    }
   ],
   "source": [
    "# Save the trained model\n",
    "joblib.dump(model, \"../backend/flare_model.pkl\")\n",
    "print(\"Model saved to backend/flare_model.pkl\")"
   ]
  }
 ],
 "metadata": {
  "kernelspec": {
   "display_name": "venv",
   "language": "python",
   "name": "python3"
  },
  "language_info": {
   "codemirror_mode": {
    "name": "ipython",
    "version": 3
   },
   "file_extension": ".py",
   "mimetype": "text/x-python",
   "name": "python",
   "nbconvert_exporter": "python",
   "pygments_lexer": "ipython3",
   "version": "3.12.5"
  }
 },
 "nbformat": 4,
 "nbformat_minor": 5
}
