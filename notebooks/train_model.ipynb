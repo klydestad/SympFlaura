{
 "cells": [
  {
   "cell_type": "markdown",
   "id": "994366f6",
   "metadata": {},
   "source": [
    "## ML model training "
   ]
  },
  {
   "cell_type": "code",
   "execution_count": null,
   "id": "78f8e9fd",
   "metadata": {},
   "outputs": [],
   "source": [
    "# Import necessary libraries\n",
    "import pandas as pd\n",
    "from sklearn.ensemble import RandomForestClassifier\n",
    "from sklearn.model_selection import train_test_split\n",
    "from sklearn.metrics import classification_report\n",
    "import joblib"
   ]
  },
  {
   "cell_type": "code",
   "execution_count": null,
   "id": "6213a411",
   "metadata": {},
   "outputs": [],
   "source": [
    "# Load your symptom data\n",
    "df = pd.read_csv(\"../data/sample_symptoms.csv\", parse_dates=[\"date\"])\n"
   ]
  },
  {
   "cell_type": "code",
   "execution_count": null,
   "id": "01ad4a9b",
   "metadata": {},
   "outputs": [],
   "source": [
    "# Drop any rows where flare is missing\n",
    "df = df.dropna(subset=[\"flare\"])\n",
    "\n",
    "# Features and target\n",
    "X = df[[\"fatigue\", \"pain\", \"brain_fog\"]]\n"
   ]
  },
  {
   "cell_type": "code",
   "execution_count": null,
   "id": "cb270ab8",
   "metadata": {},
   "outputs": [],
   "source": [
    "# Map categorical values in the 'flare' column to integers\n",
    "flare_mapping = {\"low risk\": 0, \"medium risk\": 1, \"high risk\": 2}  # Adjust mapping as needed\n",
    "df[\"flare\"] = df[\"flare\"].map(flare_mapping)\n",
    "\n",
    "# Drop rows with unmapped values (if any)\n",
    "df = df.dropna(subset=[\"flare\"])\n",
    "\n",
    "# Convert to integer\n",
    "y = df[\"flare\"].astype(int)"
   ]
  },
  {
   "cell_type": "code",
   "execution_count": null,
   "id": "1a547101",
   "metadata": {},
   "outputs": [],
   "source": [
    "y = df[\"flare\"].astype(int)\n",
    "\n",
    "# Split into train/test\n",
    "X_train, X_test, y_train, y_test = train_test_split(X, y, test_size=0.2, random_state=42)"
   ]
  },
  {
   "cell_type": "code",
   "execution_count": null,
   "id": "5a0a06ad",
   "metadata": {},
   "outputs": [],
   "source": [
    "# Train a Random Forest\n",
    "model = RandomForestClassifier(n_estimators=100, random_state=42)\n",
    "model.fit(X_train, y_train)\n",
    "\n",
    "# Evaluate\n",
    "y_pred = model.predict(X_test)\n",
    "print(classification_report(y_test, y_pred))\n",
    "\n",
    "# Save the trained model\n",
    "joblib.dump(model, \"../backend/flare_model.pkl\")\n",
    "print(\"Model saved to backend/flare_model.pkl\")"
   ]
  }
 ],
 "metadata": {
  "kernelspec": {
   "display_name": "venv",
   "language": "python",
   "name": "python3"
  },
  "language_info": {
   "codemirror_mode": {
    "name": "ipython",
    "version": 3
   },
   "file_extension": ".py",
   "mimetype": "text/x-python",
   "name": "python",
   "nbconvert_exporter": "python",
   "pygments_lexer": "ipython3",
   "version": "3.12.5"
  }
 },
 "nbformat": 4,
 "nbformat_minor": 5
}
